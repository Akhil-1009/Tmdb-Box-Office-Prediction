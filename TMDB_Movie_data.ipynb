{
  "nbformat": 4,
  "nbformat_minor": 0,
  "metadata": {
    "colab": {
      "provenance": []
    },
    "kernelspec": {
      "name": "python3",
      "display_name": "Python 3"
    },
    "language_info": {
      "name": "python"
    }
  },
  "cells": [
    {
      "cell_type": "code",
      "execution_count": null,
      "metadata": {
        "colab": {
          "base_uri": "https://localhost:8080/"
        },
        "id": "GBwukvS16d1I",
        "outputId": "20625527-f5eb-44a4-f3d2-65ceb42af33d"
      },
      "outputs": [
        {
          "output_type": "stream",
          "name": "stdout",
          "text": [
            "Saved 7372 movie IDs to movie_ids_2000.csv\n"
          ]
        }
      ],
      "source": [
        "\n",
        "import requests\n",
        "import pandas as pd\n",
        "\n",
        "\n",
        "def fetch_movie_ids(year, api_key):\n",
        "    movie_ids = []\n",
        "    page = 1\n",
        "    total_pages = 10\n",
        "\n",
        "    while page <= total_pages:\n",
        "        url = f\"https://api.themoviedb.org/3/discover/movie?api_key={api_key}&primary_release_year={year}&page={page}\"\n",
        "        response = requests.get(url)\n",
        "        data = response.json()\n",
        "\n",
        "\n",
        "        if page == 1:\n",
        "            total_pages = data['total_pages']\n",
        "\n",
        "\n",
        "        for movie in data['results']:\n",
        "            movie_ids.append(movie['id'])\n",
        "\n",
        "        page += 1\n",
        "\n",
        "    return movie_ids\n",
        "\n",
        "\n",
        "def save_to_csv(movie_ids, filename):\n",
        "    df = pd.DataFrame(movie_ids, columns=[\"movie_id\"])\n",
        "    df.to_csv(filename, index=False)\n",
        "\n",
        "\n",
        "if __name__ == \"__main__\":\n",
        "    api_key = '9c876132da391fad25ad4e896c9eb25b'\n",
        "    year = 2000\n",
        "    movie_ids = fetch_movie_ids(year, api_key)\n",
        "\n",
        "\n",
        "    save_to_csv(movie_ids, f'movie_ids_{year}.csv')\n",
        "\n",
        "    print(f\"Saved {len(movie_ids)} movie IDs to movie_ids_{year}.csv\")\n"
      ]
    },
    {
      "cell_type": "code",
      "source": [
        " import requests\n",
        "import pandas as pd\n",
        "\n",
        "\n",
        "def fetch_movie_details(year, api_key, max_pages=20):\n",
        "    movie_details = []\n",
        "    page = 1\n",
        "\n",
        "    while page <= max_pages:\n",
        "        url = f\"https://api.themoviedb.org/3/discover/movie?api_key={api_key}&primary_release_year={year}&page={page}\"\n",
        "        response = requests.get(url)\n",
        "        data = response.json()\n",
        "\n",
        "        if page == 1:\n",
        "            total_pages = min(data['total_pages'], max_pages)\n",
        "\n",
        "        for movie in data['results']:\n",
        "            movie_id = movie.get('id')\n",
        "            detailed_url = f\"https://api.themoviedb.org/3/movie/{movie_id}?api_key={api_key}&append_to_response=credits,keywords\"\n",
        "            detailed_response = requests.get(detailed_url)\n",
        "            detailed_data = detailed_response.json()\n",
        "\n",
        "            budget = detailed_data.get('budget', 0)\n",
        "            if budget > 0:\n",
        "                movie_details.append({\n",
        "                    'id': movie_id,\n",
        "                    'budget': budget,\n",
        "                    'genres': [genre['name'] for genre in detailed_data.get('genres', [])],\n",
        "                    'homepage': detailed_data.get('homepage'),\n",
        "                    'imdb_id': detailed_data.get('imdb_id'),\n",
        "                    'original_language': detailed_data.get('original_language'),\n",
        "                    'original_title': detailed_data.get('original_title'),\n",
        "                    'overview': detailed_data.get('overview'),\n",
        "                    'popularity': detailed_data.get('popularity'),\n",
        "                    'poster_path': detailed_data.get('poster_path'),\n",
        "                    'production_companies': [company['name'] for company in detailed_data.get('production_companies', [])],\n",
        "                    'production_countries': [country['name'] for country in detailed_data.get('production_countries', [])],\n",
        "                    'release_date': detailed_data.get('release_date'),\n",
        "                    'runtime': detailed_data.get('runtime'),\n",
        "                    'spoken_languages': [language['name'] for language in detailed_data.get('spoken_languages', [])],\n",
        "                    'status': detailed_data.get('status'),\n",
        "                    'tagline': detailed_data.get('tagline'),\n",
        "                    'title': detailed_data.get('title'),\n",
        "                    'keywords': [keyword['name'] for keyword in detailed_data.get('keywords', {}).get('keywords', [])],\n",
        "                    'cast': [cast['name'] for cast in detailed_data.get('credits', {}).get('cast', [])],\n",
        "                    'crew': [crew['name'] for crew in detailed_data.get('credits', {}).get('crew', [])],\n",
        "                    'revenue': detailed_data.get('revenue')\n",
        "                })\n",
        "\n",
        "        if page == total_pages:\n",
        "            break\n",
        "\n",
        "        page += 1\n",
        "\n",
        "    return movie_details\n",
        "\n",
        "\n",
        "def save_to_csv(movie_details, filename):\n",
        "    df = pd.DataFrame(movie_details)\n",
        "    df.to_csv(filename, index=False)\n",
        "\n",
        "\n",
        "if __name__ == \"__main__\":\n",
        "    api_key = '9c876132da391fad25ad4e896c9eb25b'\n",
        "    year = 2000\n",
        "    movie_details = fetch_movie_details(year, api_key)\n",
        "\n",
        "    save_to_csv(movie_details, f'movie_details_{year}.csv')\n",
        "\n",
        "    print(f\"Saved details of {len(movie_details)} movies to movie_details_{year}.csv\")\n"
      ],
      "metadata": {
        "id": "2pagT_KeGchw",
        "outputId": "76cbafc5-0722-4785-d912-28e483501f87",
        "colab": {
          "base_uri": "https://localhost:8080/"
        }
      },
      "execution_count": null,
      "outputs": [
        {
          "output_type": "stream",
          "name": "stdout",
          "text": [
            "Saved details of 197 movies to movie_details_2000.csv\n"
          ]
        }
      ]
    }
  ]
}